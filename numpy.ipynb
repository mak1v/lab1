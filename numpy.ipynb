{
 "cells": [
  {
   "cell_type": "markdown",
   "metadata": {
    "id": "vC84e9kzyxPy"
   },
   "source": [
    "<h1>Импорт библиотек"
   ]
  },
  {
   "cell_type": "code",
   "execution_count": 3,
   "metadata": {
    "id": "cgKeNegmQG5S"
   },
   "outputs": [],
   "source": [
    "import numpy as np\n",
    "import matplotlib.pyplot as plt"
   ]
  },
  {
   "cell_type": "markdown",
   "metadata": {
    "id": "qFM9uVU2x4Ls"
   },
   "source": [
    "<h1>Задача 1. Дан набор из $p$ матриц размерностью $(n, n)$ и $p$ векторов размерностью $(n, 1)$, найти сумму произведений матриц на векторы. Написать тесты для кода"
   ]
  },
  {
   "cell_type": "code",
   "execution_count": null,
   "metadata": {
    "id": "IAbUvEiYyWFF"
   },
   "outputs": [],
   "source": [
    "def sum_prod(X, V):\n",
    "    if len(X) != len(V):\n",
    "        raise ValueError(\"Number of matrices and vectors should be the same\")\n",
    "    result_sum = np.zeros(V[0].shape)\n",
    "    for i in range(len(X)):\n",
    "        result_sum += X[i] @ V[i]\n",
    "    return result_sum\n",
    "\n",
    "# Тесты \n",
    "def test_sum_prod():\n",
    "    X = [np.array([[1, 2], [3, 4]]), np.array([[5, 6], [7, 8]])]\n",
    "    V = [np.array([[1], [2]]), np.array([[3], [4]])]\n",
    "    expected_result = np.array([[22], [50]])  # Предполагаемый результат\n",
    "    assert np.array_equal(sum_prod(X, V), expected_result), \"Тест не пройден\""
   ]
  },
  {
   "cell_type": "markdown",
   "metadata": {
    "id": "TKwPG4fIy2w4"
   },
   "source": [
    "<h1>Задача 2. Дана матрица M, напишите функцию, которая бинаризует матрицу по некоторому threshold (то есть, все значения большие threshold становятся равными 1, иначе 0). Напишите тесты для кода"
   ]
  },
  {
   "cell_type": "code",
   "execution_count": null,
   "metadata": {
    "id": "KQDNMgsjRNH7"
   },
   "outputs": [],
   "source": [
    "def binarize(M, threshold=0.5):\n",
    "    return np.where(M > threshold, 1, 0)\n",
    "\n",
    "# Тесты \n",
    "def test_binarize():\n",
    "    M = np.array([[0.1, 0.6, 0.4], [0.7, 0.3, 0.9]])\n",
    "    threshold = 0.5\n",
    "    expected_result = np.array([[0, 1, 0], [1, 0, 1]])  # Предполагаемый результат\n",
    "    assert np.array_equal(binarize(M, threshold), expected_result), \"Тест не пройден\""
   ]
  },
  {
   "cell_type": "markdown",
   "metadata": {
    "id": "IY5L-h-7zWhN"
   },
   "source": [
    "<h1>Задача 3. Напишите функцию, которая возвращает уникальные элементы из каждой строки матрицы. Напишите такую же функцию, но для столбцов. Напишите тесты для кода"
   ]
  },
  {
   "cell_type": "code",
   "execution_count": null,
   "metadata": {
    "id": "-8dEZhR0SBC-"
   },
   "outputs": [],
   "source": [
    "def unique_rows(mat):\n",
    "    unique_row_elements = [np.unique(row) for row in mat]\n",
    "    return unique_row_elements\n",
    "\n",
    "def unique_columns(mat):\n",
    "    unique_col_elements = [np.unique(col) for col in mat.T]\n",
    "    return unique_col_elements\n",
    "\n",
    "# Тесты \n",
    "def test_unique_rows():\n",
    "    mat = np.array([[1, 2, 3], [3, 2, 1], [2, 2, 3]])\n",
    "    expected_result = [np.array([1, 2, 3]), np.array([1, 2, 3]), np.array([2, 3])]\n",
    "    assert all(np.array_equal(a, b) for a, b in zip(unique_rows(mat), expected_result)), \"Тест не пройден\"\n",
    "\n",
    "def test_unique_columns():\n",
    "    mat = np.array([[1, 2, 3], [3, 2, 1], [2, 2, 3]])\n",
    "    expected_result = [np.array([1, 2, 3]), np.array([1, 2, 3]), np.array([2, 3])]\n",
    "    assert all(np.array_equal(a, b) for a, b in zip(unique_columns(mat), expected_result)), \"Тест не пройден\""
   ]
  },
  {
   "cell_type": "markdown",
   "metadata": {
    "id": "roYAlo4Jz-lH"
   },
   "source": [
    "<h1>Задача 4. Напишите функцию, которая заполняет матрицу с размерами $(m, n)$ случайными числами, распределенными по нормальному закону. Затем считает мат. ожидание и дисперсию для каждого из столбцов и строк, а также строит для каждой строки и столбца гистограмму значений (использовать функцию hist из модуля matplotlib.plot)"
   ]
  },
  {
   "cell_type": "code",
   "execution_count": null,
   "metadata": {
    "id": "nZK_71hMSQzv"
   },
   "outputs": [],
   "source": [
    "import numpy as np\n",
    "import matplotlib.pyplot as plt\n",
    "\n",
    "def calculate_statistics(data):\n",
    "    mean_rows = np.mean(data, axis=1)\n",
    "    mean_cols = np.mean(data, axis=0)\n",
    "    var_rows = np.var(data, axis=1)\n",
    "    var_cols = np.var(data, axis=0)\n",
    "    return mean_rows, mean_cols, var_rows, var_cols\n",
    "\n",
    "def plot_histograms(data):\n",
    "    m, n = data.shape\n",
    "    fig, axs = plt.subplots(m + n, 2, figsize=(10, 15))\n",
    "    for i in range(m):\n",
    "        axs[i, 0].hist(data[i], bins=10, edgecolor='black')\n",
    "        axs[i, 0].set_title(f'Row {i+1} Histogram')\n",
    "        axs[i, 1].plot(data[i])\n",
    "    for j in range(n):\n",
    "        axs[m+j, 0].hist(data[:, j], bins=10, edgecolor='black')\n",
    "        axs[m+j, 0].set_title(f'Column {j+1} Histogram')\n",
    "        axs[m+j, 1].plot(data[:, j])\n",
    "    plt.tight_layout()\n",
    "    plt.show()\n",
    "\n",
    "def generate_matrix_statistics(m, n):\n",
    "    data = np.random.normal(size=(m, n))\n",
    "    mean_rows, mean_cols, var_rows, var_cols = calculate_statistics(data)\n",
    "    plot_histograms(data)\n",
    "\n",
    "    return data, mean_rows, mean_cols, var_rows, var_cols"
   ]
  },
  {
   "cell_type": "markdown",
   "metadata": {
    "id": "BDyATNdM0dJ2"
   },
   "source": [
    "<h1>Задача 5. Напишите функцию, которая заполняет матрицу $(m, n)$ в шахматном порядке заданными числами $a$ и $b$. Напишите тесты для кода"
   ]
  },
  {
   "cell_type": "code",
   "execution_count": null,
   "metadata": {
    "id": "RWNJYWQGecS6"
   },
   "outputs": [],
   "source": [
    "import numpy as np\n",
    "\n",
    "def chess(m, n, a, b):\n",
    "    result = np.zeros((m, n))\n",
    "    result[::2, ::2] = a  # Заполняем каждый второй столбец каждой второй строки значением a\n",
    "    result[1::2, 1::2] = a  # Заполняем каждый второй столбец каждой второй строки значением a\n",
    "    result[::2, 1::2] = b  # Заполняем оставшиеся элементы значениями b\n",
    "    result[1::2, ::2] = b  # Заполняем оставшиеся элементы значениями b\n",
    "    return result\n",
    "\n",
    "# Тест\n",
    "def test_chess():\n",
    "    m, n = 5, 5\n",
    "    a, b = 1, 0\n",
    "    expected_result = np.array([[a, b, a, b, a],\n",
    "                               [b, a, b, a, b],\n",
    "                               [a, b, a, b, a],\n",
    "                               [b, a, b, a, b],\n",
    "                               [a, b, a, b, a]])  # Предполагаемый результат\n",
    "    assert np.array_equal(chess(m, n, a, b), expected_result), \"Тест не пройден\"\n",
    "\n",
    "test_chess()"
   ]
  },
  {
   "cell_type": "markdown",
   "metadata": {
    "id": "-ymXLtTN0vB6"
   },
   "source": [
    "<h1>Задача 6. Напишите функцию, которая отрисовывает прямоугольник с заданными размерами (a, b) на изображении размера (m, n), цвет фона задайте в схеме RGB, как и цвет прямоугольника. Цвета также должны быть параметрами функции. Напишите аналогичную функцию но для овала с полуосями a и b. Напишите тесты для кода.\n",
    "Примечание: уравнение эллипса (границы овала) можно записать как:\n",
    "<h1>$\\frac{(x-x_0)^2}{a^2}+\\frac{(y-y_0)^2}{b^2}=1$"
   ]
  },
  {
   "cell_type": "code",
   "execution_count": 1,
   "metadata": {
    "id": "sNfl1t_kfOF4"
   },
   "outputs": [],
   "source": [
    "from PIL import Image, ImageDraw\n",
    "\n",
    "def draw_rectangle(a, b, m, n, rectangle_color, background_color):\n",
    "    img = Image.new('RGB', (m, n), background_color)\n",
    "    draw = ImageDraw.Draw(img)\n",
    "    draw.rectangle([0, 0, a, b], fill=rectangle_color)\n",
    "    img.show()\n",
    "\n",
    "def draw_ellipse(a, b, m, n, ellipse_color, background_color):\n",
    "    img = Image.new('RGB', (m, n), background_color)\n",
    "    draw = ImageDraw.Draw(img)\n",
    "    draw.ellipse([0, 0, a, b], fill=ellipse_color)\n",
    "    img.show()\n",
    "\n",
    "# Тест\n",
    "import pytest\n",
    "\n",
    "def test_draw_rectangle():\n",
    "    draw_rectangle(100, 50, 200, 150, (255, 0, 0), (255, 255, 255))\n",
    "\n",
    "def test_draw_ellipse():\n",
    "    draw_ellipse(100, 50, 200, 150, (0, 0, 255), (255, 255, 255))"
   ]
  },
  {
   "cell_type": "markdown",
   "metadata": {
    "id": "S82c38oz244H"
   },
   "source": [
    "<h1>Задача 7. Дан некий временной ряд. Для данного ряда нужно найти его: математическое ожидание, дисперсию, СКО, найти все локальные максимумы и минимумы (локальный максимум - это точка, которая больше своих соседних точек, а локальный минимум - это точка, которая меньше своих соседей), а также вычислить для данного ряда другой ряд, получаемый методом скользящего среднего с размером окна $p$.\n",
    "<h1>Примечание: метод скользящего среднего подразумевает нахождение среднего из подмножетсва ряда размером $p$"
   ]
  },
  {
   "cell_type": "code",
   "execution_count": null,
   "metadata": {
    "id": "Zb9mIVge5MMt"
   },
   "outputs": [],
   "source": [
    "import numpy as np\n",
    "\n",
    "# Исходный временной ряд\n",
    "time_series = [1, 3, 5, 4, 7, 9, 8, 10, 12, 11, 9]\n",
    "\n",
    "# Математическое ожидание\n",
    "mean = np.mean(time_series)\n",
    "\n",
    "# Дисперсия\n",
    "variance = np.var(time_series)\n",
    "\n",
    "# СКО (стандартное отклонение)\n",
    "std_dev = np.std(time_series)\n",
    "\n",
    "# Локальные максимумы и минимумы\n",
    "local_maxima = [time_series[i] for i in range(1, len(time_series)-1) if time_series[i] > time_series[i-1] and time_series[i] > time_series[i+1]]\n",
    "local_minima = [time_series[i] for i in range(1, len(time_series)-1) if time_series[i] < time_series[i-1] and time_series[i] < time_series[i+1]]\n",
    "\n",
    "# Вычисление скользящего среднего\n",
    "def rolling_mean(data, window_size):\n",
    "    return [np.mean(data[i:i+window_size]) for i in range(len(data)-window_size+1)]\n",
    "\n",
    "# Размер окна скользящего среднего\n",
    "window_size = 3\n",
    "rolling_avg_series = rolling_mean(time_series, window_size)\n",
    "\n",
    "print(\"Математическое ожидание:\", mean)\n",
    "print(\"Дисперсия:\", variance)\n",
    "print(\"СКО:\", std_dev)\n",
    "print(\"Локальные максимумы:\", local_maxima)\n",
    "print(\"Локальные минимумы:\", local_minima)\n",
    "print(\"Скользящее среднее с размером окна\", window_size, \":\", rolling_avg_series)"
   ]
  },
  {
   "cell_type": "markdown",
   "metadata": {
    "id": "jPkylmOX5O9n"
   },
   "source": [
    "<h1> Задача 8. Дан некоторый вектор с целочисленными метками классов, напишите функцию, которая выполняет one-hot-encoding для данного вектора\n",
    "<h1> One-hot-encoding - представление, в котором на месте метки некоторого класса стоит 1, в остальных позициях стоит 0. Например для вектора [0, 2, 3, 0] one-hot-encoding выглядит как: [[1, 0, 0, 0], [0, 0, 1, 0], [0, 0, 0, 1], [1, 0, 0, 0]]"
   ]
  },
  {
   "cell_type": "code",
   "execution_count": null,
   "metadata": {
    "id": "Y-jlnZvw56lD"
   },
   "outputs": [],
   "source": [
    "import numpy as np\n",
    "\n",
    "def one_hot_encoding(vector, num_classes):\n",
    "    one_hot = np.zeros((len(vector), num_classes), dtype=int)\n",
    "    one_hot[np.arange(len(vector)), vector] = 1\n",
    "    return one_hot\n",
    "\n",
    "# Пример использования:\n",
    "vector = [0, 2, 3, 0]\n",
    "num_classes = 4\n",
    "encoded_vector = one_hot_encoding(vector, num_classes)\n",
    "print(encoded_vector)"
   ]
  }
 ],
 "metadata": {
  "colab": {
   "provenance": []
  },
  "kernelspec": {
   "display_name": "Python 3 (ipykernel)",
   "language": "python",
   "name": "python3"
  },
  "language_info": {
   "codemirror_mode": {
    "name": "ipython",
    "version": 3
   },
   "file_extension": ".py",
   "mimetype": "text/x-python",
   "name": "python",
   "nbconvert_exporter": "python",
   "pygments_lexer": "ipython3",
   "version": "3.12.0"
  }
 },
 "nbformat": 4,
 "nbformat_minor": 4
}
