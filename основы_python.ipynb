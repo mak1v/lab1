{
 "cells": [
  {
   "cell_type": "markdown",
   "metadata": {
    "id": "M-DGa20PaHnu"
   },
   "source": [
    "#Задача 1\n",
    "Написать функцию на вход которой подается строка, состоящая из латинских букв.\n",
    "Функция должна вернуть количество гласных букв (a, e, i, o, u) в этой строке. Написать тесты для кода"
   ]
  },
  {
   "cell_type": "code",
   "execution_count": null,
   "metadata": {
    "id": "XvX8X_JJ6PCb"
   },
   "outputs": [],
   "source": [
    "def count_vowels(input_string):\n",
    "    vowels = \"aeiouAEIOU\"\n",
    "    count = 0\n",
    "    for char in input_string:\n",
    "        if char in vowels:\n",
    "            count += 1\n",
    "    return count\n",
    "\n",
    "def test_count_vowels():\n",
    "    assert count_vowels(\"hello\") == 2\n",
    "    assert count_vowels(\"world\") == 1\n",
    "    assert count_vowels(\"Python\") == 1\n",
    "    assert count_vowels(\"Artificial Intelligence\") == 9\n",
    "    assert count_vowels(\"\") == 0"
   ]
  },
  {
   "cell_type": "markdown",
   "metadata": {
    "id": "t2ClV_Y0bbr6"
   },
   "source": [
    "# Задача 2\n",
    "Написать функцию на вход, которой подается строка. Функция должна вернуть true, если\n",
    "каждый символ в строке встречается только 1 раз, иначе должна вернуть false. Написать тесты для кода"
   ]
  },
  {
   "cell_type": "code",
   "execution_count": null,
   "metadata": {
    "id": "FppbECao6VIz"
   },
   "outputs": [],
   "source": [
    "def is_unique(input_string):\n",
    "    seen = set()\n",
    "    for char in input_string:\n",
    "        if char in seen:\n",
    "            return False\n",
    "        seen.add(char)\n",
    "    return True\n",
    "\n",
    "def test_is_unique():\n",
    "    assert is_unique(\"abcdefg\") == True\n",
    "    assert is_unique(\"aaa\") == False\n",
    "    assert is_unique(\"hello\") == False\n",
    "    assert is_unique(\"Python\") == True\n",
    "    assert is_unique(\"\") == True"
   ]
  },
  {
   "cell_type": "markdown",
   "metadata": {
    "id": "udRiIK1cdt6E"
   },
   "source": [
    "# Задача 3\n",
    "Написать функцию, которая принимает положительное число и возвращает количество\n",
    "бит равных 1 в этом числе. Написать тесты для кода"
   ]
  },
  {
   "cell_type": "code",
   "execution_count": null,
   "metadata": {
    "id": "6tkfDJRz6dp_"
   },
   "outputs": [],
   "source": [
    "def count_set_bits(num):\n",
    "    count = 0\n",
    "    while num:\n",
    "        count += num & 1\n",
    "        num >>= 1\n",
    "    return count\n",
    "\n",
    "def test_count_set_bits():\n",
    "    assert count_set_bits(10) == 2  # биты '1010' \n",
    "    assert count_set_bits(7) == 3   # биты '0111' \n",
    "    assert count_set_bits(0) == 0   # для числа 0 битов нет\n",
    "    assert count_set_bits(32) == 1  # биты '100000' \n",
    "    assert count_set_bits(255) == 8 # биты '11111111' "
   ]
  },
  {
   "cell_type": "markdown",
   "metadata": {
    "id": "26dDUz-Ae17N"
   },
   "source": [
    "# Задача 4\n",
    "Написать функцию, которая принимает положительное число. Функция должна вернуть то,\n",
    "сколько раз необходимо перемножать цифры числа или результат перемножения, чтобы\n",
    "получилось число состоящее из одной цифры.\n",
    "Например, для входного числа:\n",
    "· 39 функция должна вернуть 3, так как 3*9=27 => 2*7=14 => 1*4=4\n",
    "· 4 функция должна вернуть 0, так как число уже состоит из одной цифры\n",
    "· 999 функция должна вернуть 4, так как 9*9*9=729 => 7*2*9=126 => 1*2*6=12 =>\n",
    "1*2=2. Написать тесты для кода"
   ]
  },
  {
   "cell_type": "code",
   "execution_count": null,
   "metadata": {
    "id": "BH1A_Mgi6i4G"
   },
   "outputs": [],
   "source": [
    "def magic(n):\n",
    "    if n < 10:\n",
    "        return 0\n",
    "    count = 0\n",
    "    while n >= 10:\n",
    "        product = 1\n",
    "        while n > 0:\n",
    "            digit = n % 10\n",
    "            product *= digit\n",
    "            n = n // 10\n",
    "        n = product\n",
    "        count += 1\n",
    "    return count\n",
    "\n",
    "def test_magic():\n",
    "    assert magic(39) == 3\n",
    "    assert magic(4) == 0\n",
    "    assert magic(999) == 4\n",
    "    assert magic(11) == 1\n",
    "    assert magic(123456789) == 2\n",
    "    assert magic(10) == 1"
   ]
  },
  {
   "cell_type": "markdown",
   "metadata": {
    "id": "0nS-kIa8g8vd"
   },
   "source": [
    "# Задача 5\n",
    "Написать функцию, которая принимает два целочисленных вектора одинаковой длины и\n",
    "возвращает среднеквадратическое отклонение двух векторов. Написать тесты для кода"
   ]
  },
  {
   "cell_type": "code",
   "execution_count": null,
   "metadata": {
    "id": "8iphx4LM6xbx"
   },
   "outputs": [],
   "source": [
    "def mse(pred, true):\n",
    "    if len(pred) != len(true):\n",
    "        raise ValueError(\"Vectors should have the same length\")\n",
    "\n",
    "    sum_of_squares = 0\n",
    "    n = len(pred)\n",
    "    for i in range(n):\n",
    "        sum_of_squares += (pred[i] - true[i]) ** 2\n",
    "\n",
    "    mse_value = sum_of_squares / n\n",
    "    return mse_value\n",
    "\n",
    "def test_mse():\n",
    "    assert mse([1, 2, 3], [1, 2, 3]) == 0\n",
    "    assert mse([1, 2, 3], [4, 5, 6]) == 9\n",
    "    assert mse([0, 0, 0], [1, 1, 1]) == 1\n",
    "    assert mse([0, 0, 0], [0, 0, 0]) == 0\n",
    "    try:\n",
    "        mse([1, 2, 3, 4], [1, 2, 3])\n",
    "    except ValueError:\n",
    "        assert True"
   ]
  },
  {
   "cell_type": "markdown",
   "metadata": {
    "id": "vpIPKL439zkw"
   },
   "source": [
    "# Задача 6\n",
    "Написать функцию, принимающая целое положительное число. Функция должна вернуть\n",
    "строку вида “(n1**p1)(n2**p2)…(nk**pk)” представляющая разложение числа на простые\n",
    "множители (если pi == 1, то выводить только ni).\n",
    "Например, для числа 86240 функция должна вернуть “(2**5)(5)(7**2)(11)”. Написать тесты для кода"
   ]
  },
  {
   "cell_type": "code",
   "execution_count": null,
   "metadata": {
    "id": "pFebmcZk94Jw"
   },
   "outputs": [],
   "source": [
    "def prime_factors(n):\n",
    "    factors = []\n",
    "    divisor = 2\n",
    "    while n > 1:\n",
    "        power = 0\n",
    "        while n % divisor == 0:\n",
    "            n = n // divisor\n",
    "            power += 1\n",
    "        if power > 0:\n",
    "            if power == 1:\n",
    "                factors.append(f\"({divisor})\"\n",
    "            else:\n",
    "                factors.append(f\"({divisor}**{power})\")\n",
    "        divisor += 1 if divisor == 2 else 2\n",
    "    return ''.join(factors)\n",
    "\n",
    "def test_prime_factors():\n",
    "    assert prime_factors(25) == \"(5**2)\"\n",
    "    assert prime_factors(60) == \"(2**2)(3)(5)\"\n",
    "    assert prime_factors(86240) == \"(2**5)(5)(7**2)(11)\"\n",
    "    assert prime_factors(1) == \"\""
   ]
  },
  {
   "cell_type": "markdown",
   "metadata": {
    "id": "ps2s0BudX7A2"
   },
   "source": [
    "# Задача 7\n",
    "Написать функцию, принимающая целое число n, задающее количество кубиков. Функция\n",
    "должна определить, можно ли из данного кол-ва кубиков построить пирамиду, то есть\n",
    "можно ли представить число n как 1^2+2^2+3^2+…+k^2. Если можно, то функция должна\n",
    "вернуть k, иначе строку “It is impossible”. Написать тесты для кода"
   ]
  },
  {
   "cell_type": "code",
   "execution_count": null,
   "metadata": {
    "id": "3YPjEXxhX_YT"
   },
   "outputs": [],
   "source": [
    "def pyramid(number):\n",
    "    total = 0\n",
    "    k = 0\n",
    "    while total < number:\n",
    "        k += 1\n",
    "        total += k ** 2\n",
    "    if total == number:\n",
    "        return k\n",
    "    else:\n",
    "        return \"It is impossible\"\n",
    "\n",
    "def test_pyramid():\n",
    "    assert pyramid(12) == 3  \n",
    "    assert pyramid(30) == \"It is impossible\"  \n",
    "    assert pyramid(385) == 7  \n",
    "    assert pyramid(1) == 1  "
   ]
  },
  {
   "cell_type": "markdown",
   "metadata": {
    "id": "KeKgmIdAQMEJ"
   },
   "source": [
    "# Задача 8\n",
    "Функция принимает на вход положительное число и определяет является ли оно сбалансированным, т.е. сумма цифр до средних равна сумме цифр после. Средними в случае нечетного числа цифр считать одну цифру, в случае четного - две средних. Написать тесты для кода"
   ]
  },
  {
   "cell_type": "code",
   "execution_count": 2,
   "metadata": {
    "id": "gMAAqtqlQrZt"
   },
   "outputs": [],
   "source": [
    "def is_balanced(number):\n",
    "    num_str = str(number)\n",
    "    length = len(num_str)\n",
    "    if length % 2 == 0:\n",
    "        first_half = sum(map(int, num_str[:length // 2]))\n",
    "        second_half = sum(map(int, num_str[length // 2:]))\n",
    "    else:\n",
    "        first_half = sum(map(int, num_str[:length // 2]))\n",
    "        second_half = sum(map(int, num_str[length // 2 + 1:]))\n",
    "    return first_half == second_half\n",
    "\n",
    "def test_is_balanced():\n",
    "    assert is_balanced(121) == True  # 1+2 = 2\n",
    "    assert is_balanced(12321) == True  # 1+2 = 3+2\n",
    "    assert is_balanced(12345) == False  # 1+2 = 4+5\n",
    "    assert is_balanced(123456) == False  # 1+2 = 4+5+6\n",
    "    assert is_balanced(1234567) == True  # 1+2+3 = 5+6+7"
   ]
  }
 ],
 "metadata": {
  "colab": {
   "provenance": []
  },
  "kernelspec": {
   "display_name": "Python 3 (ipykernel)",
   "language": "python",
   "name": "python3"
  },
  "language_info": {
   "codemirror_mode": {
    "name": "ipython",
    "version": 3
   },
   "file_extension": ".py",
   "mimetype": "text/x-python",
   "name": "python",
   "nbconvert_exporter": "python",
   "pygments_lexer": "ipython3",
   "version": "3.12.0"
  }
 },
 "nbformat": 4,
 "nbformat_minor": 4
}
